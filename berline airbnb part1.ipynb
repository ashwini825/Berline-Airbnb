{
 "cells": [
  {
   "cell_type": "markdown",
   "metadata": {},
   "source": [
    "# Importing suitable and important libraries for the analysis"
   ]
  },
  {
   "cell_type": "code",
   "execution_count": 1,
   "metadata": {},
   "outputs": [],
   "source": [
    "import pandas as pd\n",
    "import seaborn as sb\n",
    "import matplotlib.pyplot as plt\n",
    "import numpy as np\n",
    "import scipy.stats as st"
   ]
  },
  {
   "cell_type": "markdown",
   "metadata": {},
   "source": [
    "# Reading the files"
   ]
  },
  {
   "cell_type": "raw",
   "metadata": {},
   "source": [
    "importing the files for which the information has to be analysed. The file type may be excel, csv(comma seperated value), text, html, json and many more"
   ]
  },
  {
   "cell_type": "code",
   "execution_count": 2,
   "metadata": {},
   "outputs": [],
   "source": [
    "berlin=pd.read_csv('listings_summary.csv',encoding = \"ISO-8859-1\")"
   ]
  },
  {
   "cell_type": "markdown",
   "metadata": {},
   "source": [
    "# Choosing the required columns and analysising them"
   ]
  },
  {
   "cell_type": "raw",
   "metadata": {},
   "source": [
    "let us analysis the price prediction at berline depending on the reviews of each dimension"
   ]
  },
  {
   "cell_type": "raw",
   "metadata": {},
   "source": [
    "so lets take the data field which has those requirenments and pass it to a variable"
   ]
  },
  {
   "cell_type": "code",
   "execution_count": 3,
   "metadata": {},
   "outputs": [],
   "source": [
    "berlinee=berlin[['number_of_reviews','price','reviews_per_month','review_scores_value','review_scores_location','review_scores_communication','review_scores_checkin','review_scores_cleanliness','review_scores_rating','review_scores_accuracy']].fillna(0)"
   ]
  },
  {
   "cell_type": "markdown",
   "metadata": {},
   "source": [
    "#### checking the number of datas  which has 0 review values"
   ]
  },
  {
   "cell_type": "code",
   "execution_count": 4,
   "metadata": {},
   "outputs": [
    {
     "name": "stdout",
     "output_type": "stream",
     "text": [
      "The total number of datas present in the datasheet 22552\n",
      "\n",
      " False    18638\n",
      "True      3914\n",
      "Name: reviews_per_month, dtype: int64\n",
      "\n",
      " False    18117\n",
      "True      4435\n",
      "Name: review_scores_value, dtype: int64\n",
      "\n",
      " False    18121\n",
      "True      4431\n",
      "Name: review_scores_location, dtype: int64\n",
      "\n",
      " False    18134\n",
      "True      4418\n",
      "Name: review_scores_communication, dtype: int64\n",
      "\n",
      " False    18120\n",
      "True      4432\n",
      "Name: review_scores_checkin, dtype: int64\n",
      "\n",
      " False    18141\n",
      "True      4411\n",
      "Name: review_scores_cleanliness, dtype: int64\n",
      "\n",
      " False    18163\n",
      "True      4389\n",
      "Name: review_scores_rating, dtype: int64\n",
      "\n",
      " False    18138\n",
      "True      4414\n",
      "Name: review_scores_accuracy, dtype: int64\n"
     ]
    }
   ],
   "source": [
    "#To remove the datas which has zero reviews \n",
    "\n",
    "print('The total number of datas present in the datasheet',berlin['id'].count())\n",
    "print('\\n',pd.value_counts(berlinee['reviews_per_month']==0))\n",
    "print('\\n',pd.value_counts(berlinee['review_scores_value']==0))\n",
    "print('\\n',pd.value_counts(berlinee['review_scores_location']==0))\n",
    "print('\\n',pd.value_counts(berlinee['review_scores_communication']==0))\n",
    "print('\\n',pd.value_counts(berlinee['review_scores_checkin']==0))\n",
    "print('\\n',pd.value_counts(berlinee['review_scores_cleanliness']==0))\n",
    "print('\\n',pd.value_counts(berlinee['review_scores_rating']==0))\n",
    "print('\\n',pd.value_counts(berlinee['review_scores_accuracy']==0))"
   ]
  },
  {
   "cell_type": "raw",
   "metadata": {},
   "source": [
    "So from the above we can conclude that most datas which are after 4000 datas have least reviews in all the dimensions like reviews in cleanliness, rating, accuracy, communication etc"
   ]
  },
  {
   "cell_type": "raw",
   "metadata": {},
   "source": [
    "getting the first 100 dataset from the data fields we have i.e getting sample probility "
   ]
  },
  {
   "cell_type": "code",
   "execution_count": 43,
   "metadata": {
    "scrolled": true
   },
   "outputs": [
    {
     "data": {
      "text/html": [
       "<div>\n",
       "<style scoped>\n",
       "    .dataframe tbody tr th:only-of-type {\n",
       "        vertical-align: middle;\n",
       "    }\n",
       "\n",
       "    .dataframe tbody tr th {\n",
       "        vertical-align: top;\n",
       "    }\n",
       "\n",
       "    .dataframe thead th {\n",
       "        text-align: right;\n",
       "    }\n",
       "</style>\n",
       "<table border=\"1\" class=\"dataframe\">\n",
       "  <thead>\n",
       "    <tr style=\"text-align: right;\">\n",
       "      <th></th>\n",
       "      <th>number_of_reviews</th>\n",
       "      <th>price</th>\n",
       "      <th>reviews_per_month</th>\n",
       "      <th>review_scores_value</th>\n",
       "      <th>review_scores_location</th>\n",
       "      <th>review_scores_communication</th>\n",
       "      <th>review_scores_checkin</th>\n",
       "      <th>review_scores_cleanliness</th>\n",
       "      <th>review_scores_rating</th>\n",
       "      <th>review_scores_accuracy</th>\n",
       "    </tr>\n",
       "  </thead>\n",
       "  <tbody>\n",
       "    <tr>\n",
       "      <th>0</th>\n",
       "      <td>118</td>\n",
       "      <td>60</td>\n",
       "      <td>3.76</td>\n",
       "      <td>9.0</td>\n",
       "      <td>10.0</td>\n",
       "      <td>10.0</td>\n",
       "      <td>10.0</td>\n",
       "      <td>9.0</td>\n",
       "      <td>93.0</td>\n",
       "      <td>10.0</td>\n",
       "    </tr>\n",
       "    <tr>\n",
       "      <th>1</th>\n",
       "      <td>6</td>\n",
       "      <td>17</td>\n",
       "      <td>1.42</td>\n",
       "      <td>10.0</td>\n",
       "      <td>10.0</td>\n",
       "      <td>10.0</td>\n",
       "      <td>10.0</td>\n",
       "      <td>10.0</td>\n",
       "      <td>100.0</td>\n",
       "      <td>10.0</td>\n",
       "    </tr>\n",
       "    <tr>\n",
       "      <th>2</th>\n",
       "      <td>143</td>\n",
       "      <td>90</td>\n",
       "      <td>1.25</td>\n",
       "      <td>9.0</td>\n",
       "      <td>10.0</td>\n",
       "      <td>9.0</td>\n",
       "      <td>9.0</td>\n",
       "      <td>9.0</td>\n",
       "      <td>92.0</td>\n",
       "      <td>9.0</td>\n",
       "    </tr>\n",
       "    <tr>\n",
       "      <th>3</th>\n",
       "      <td>25</td>\n",
       "      <td>26</td>\n",
       "      <td>0.39</td>\n",
       "      <td>9.0</td>\n",
       "      <td>9.0</td>\n",
       "      <td>10.0</td>\n",
       "      <td>9.0</td>\n",
       "      <td>9.0</td>\n",
       "      <td>88.0</td>\n",
       "      <td>9.0</td>\n",
       "    </tr>\n",
       "    <tr>\n",
       "      <th>4</th>\n",
       "      <td>197</td>\n",
       "      <td>42</td>\n",
       "      <td>1.75</td>\n",
       "      <td>9.0</td>\n",
       "      <td>10.0</td>\n",
       "      <td>10.0</td>\n",
       "      <td>10.0</td>\n",
       "      <td>10.0</td>\n",
       "      <td>96.0</td>\n",
       "      <td>10.0</td>\n",
       "    </tr>\n",
       "    <tr>\n",
       "      <th>5</th>\n",
       "      <td>6</td>\n",
       "      <td>180</td>\n",
       "      <td>0.15</td>\n",
       "      <td>10.0</td>\n",
       "      <td>10.0</td>\n",
       "      <td>10.0</td>\n",
       "      <td>10.0</td>\n",
       "      <td>10.0</td>\n",
       "      <td>100.0</td>\n",
       "      <td>10.0</td>\n",
       "    </tr>\n",
       "    <tr>\n",
       "      <th>6</th>\n",
       "      <td>23</td>\n",
       "      <td>70</td>\n",
       "      <td>0.23</td>\n",
       "      <td>9.0</td>\n",
       "      <td>9.0</td>\n",
       "      <td>10.0</td>\n",
       "      <td>9.0</td>\n",
       "      <td>10.0</td>\n",
       "      <td>93.0</td>\n",
       "      <td>10.0</td>\n",
       "    </tr>\n",
       "    <tr>\n",
       "      <th>7</th>\n",
       "      <td>0</td>\n",
       "      <td>120</td>\n",
       "      <td>0.00</td>\n",
       "      <td>0.0</td>\n",
       "      <td>0.0</td>\n",
       "      <td>0.0</td>\n",
       "      <td>0.0</td>\n",
       "      <td>0.0</td>\n",
       "      <td>0.0</td>\n",
       "      <td>0.0</td>\n",
       "    </tr>\n",
       "    <tr>\n",
       "      <th>8</th>\n",
       "      <td>48</td>\n",
       "      <td>90</td>\n",
       "      <td>0.47</td>\n",
       "      <td>9.0</td>\n",
       "      <td>9.0</td>\n",
       "      <td>10.0</td>\n",
       "      <td>10.0</td>\n",
       "      <td>10.0</td>\n",
       "      <td>94.0</td>\n",
       "      <td>10.0</td>\n",
       "    </tr>\n",
       "    <tr>\n",
       "      <th>9</th>\n",
       "      <td>279</td>\n",
       "      <td>45</td>\n",
       "      <td>2.83</td>\n",
       "      <td>10.0</td>\n",
       "      <td>10.0</td>\n",
       "      <td>10.0</td>\n",
       "      <td>10.0</td>\n",
       "      <td>10.0</td>\n",
       "      <td>96.0</td>\n",
       "      <td>10.0</td>\n",
       "    </tr>\n",
       "    <tr>\n",
       "      <th>10</th>\n",
       "      <td>223</td>\n",
       "      <td>49</td>\n",
       "      <td>2.10</td>\n",
       "      <td>9.0</td>\n",
       "      <td>10.0</td>\n",
       "      <td>10.0</td>\n",
       "      <td>10.0</td>\n",
       "      <td>9.0</td>\n",
       "      <td>96.0</td>\n",
       "      <td>10.0</td>\n",
       "    </tr>\n",
       "    <tr>\n",
       "      <th>11</th>\n",
       "      <td>56</td>\n",
       "      <td>129</td>\n",
       "      <td>0.75</td>\n",
       "      <td>9.0</td>\n",
       "      <td>10.0</td>\n",
       "      <td>8.0</td>\n",
       "      <td>9.0</td>\n",
       "      <td>9.0</td>\n",
       "      <td>87.0</td>\n",
       "      <td>9.0</td>\n",
       "    </tr>\n",
       "    <tr>\n",
       "      <th>12</th>\n",
       "      <td>60</td>\n",
       "      <td>70</td>\n",
       "      <td>0.61</td>\n",
       "      <td>9.0</td>\n",
       "      <td>9.0</td>\n",
       "      <td>9.0</td>\n",
       "      <td>10.0</td>\n",
       "      <td>10.0</td>\n",
       "      <td>95.0</td>\n",
       "      <td>9.0</td>\n",
       "    </tr>\n",
       "    <tr>\n",
       "      <th>13</th>\n",
       "      <td>61</td>\n",
       "      <td>98</td>\n",
       "      <td>0.59</td>\n",
       "      <td>9.0</td>\n",
       "      <td>10.0</td>\n",
       "      <td>10.0</td>\n",
       "      <td>10.0</td>\n",
       "      <td>9.0</td>\n",
       "      <td>94.0</td>\n",
       "      <td>10.0</td>\n",
       "    </tr>\n",
       "    <tr>\n",
       "      <th>14</th>\n",
       "      <td>223</td>\n",
       "      <td>160</td>\n",
       "      <td>2.27</td>\n",
       "      <td>9.0</td>\n",
       "      <td>10.0</td>\n",
       "      <td>10.0</td>\n",
       "      <td>10.0</td>\n",
       "      <td>9.0</td>\n",
       "      <td>94.0</td>\n",
       "      <td>9.0</td>\n",
       "    </tr>\n",
       "    <tr>\n",
       "      <th>15</th>\n",
       "      <td>96</td>\n",
       "      <td>65</td>\n",
       "      <td>0.94</td>\n",
       "      <td>9.0</td>\n",
       "      <td>9.0</td>\n",
       "      <td>9.0</td>\n",
       "      <td>9.0</td>\n",
       "      <td>9.0</td>\n",
       "      <td>87.0</td>\n",
       "      <td>9.0</td>\n",
       "    </tr>\n",
       "    <tr>\n",
       "      <th>16</th>\n",
       "      <td>18</td>\n",
       "      <td>90</td>\n",
       "      <td>0.18</td>\n",
       "      <td>10.0</td>\n",
       "      <td>10.0</td>\n",
       "      <td>9.0</td>\n",
       "      <td>10.0</td>\n",
       "      <td>10.0</td>\n",
       "      <td>94.0</td>\n",
       "      <td>10.0</td>\n",
       "    </tr>\n",
       "    <tr>\n",
       "      <th>17</th>\n",
       "      <td>5</td>\n",
       "      <td>90</td>\n",
       "      <td>0.05</td>\n",
       "      <td>10.0</td>\n",
       "      <td>10.0</td>\n",
       "      <td>10.0</td>\n",
       "      <td>10.0</td>\n",
       "      <td>10.0</td>\n",
       "      <td>100.0</td>\n",
       "      <td>10.0</td>\n",
       "    </tr>\n",
       "    <tr>\n",
       "      <th>18</th>\n",
       "      <td>163</td>\n",
       "      <td>197</td>\n",
       "      <td>1.63</td>\n",
       "      <td>9.0</td>\n",
       "      <td>10.0</td>\n",
       "      <td>9.0</td>\n",
       "      <td>9.0</td>\n",
       "      <td>9.0</td>\n",
       "      <td>91.0</td>\n",
       "      <td>9.0</td>\n",
       "    </tr>\n",
       "    <tr>\n",
       "      <th>19</th>\n",
       "      <td>28</td>\n",
       "      <td>70</td>\n",
       "      <td>0.29</td>\n",
       "      <td>9.0</td>\n",
       "      <td>9.0</td>\n",
       "      <td>10.0</td>\n",
       "      <td>10.0</td>\n",
       "      <td>10.0</td>\n",
       "      <td>92.0</td>\n",
       "      <td>9.0</td>\n",
       "    </tr>\n",
       "    <tr>\n",
       "      <th>20</th>\n",
       "      <td>30</td>\n",
       "      <td>90</td>\n",
       "      <td>0.33</td>\n",
       "      <td>9.0</td>\n",
       "      <td>9.0</td>\n",
       "      <td>9.0</td>\n",
       "      <td>8.0</td>\n",
       "      <td>10.0</td>\n",
       "      <td>91.0</td>\n",
       "      <td>9.0</td>\n",
       "    </tr>\n",
       "    <tr>\n",
       "      <th>21</th>\n",
       "      <td>1</td>\n",
       "      <td>60</td>\n",
       "      <td>0.02</td>\n",
       "      <td>10.0</td>\n",
       "      <td>10.0</td>\n",
       "      <td>10.0</td>\n",
       "      <td>10.0</td>\n",
       "      <td>10.0</td>\n",
       "      <td>100.0</td>\n",
       "      <td>10.0</td>\n",
       "    </tr>\n",
       "    <tr>\n",
       "      <th>22</th>\n",
       "      <td>69</td>\n",
       "      <td>130</td>\n",
       "      <td>0.70</td>\n",
       "      <td>9.0</td>\n",
       "      <td>10.0</td>\n",
       "      <td>10.0</td>\n",
       "      <td>10.0</td>\n",
       "      <td>10.0</td>\n",
       "      <td>96.0</td>\n",
       "      <td>10.0</td>\n",
       "    </tr>\n",
       "    <tr>\n",
       "      <th>23</th>\n",
       "      <td>240</td>\n",
       "      <td>100</td>\n",
       "      <td>2.42</td>\n",
       "      <td>9.0</td>\n",
       "      <td>10.0</td>\n",
       "      <td>10.0</td>\n",
       "      <td>10.0</td>\n",
       "      <td>10.0</td>\n",
       "      <td>95.0</td>\n",
       "      <td>10.0</td>\n",
       "    </tr>\n",
       "    <tr>\n",
       "      <th>24</th>\n",
       "      <td>28</td>\n",
       "      <td>44</td>\n",
       "      <td>4.94</td>\n",
       "      <td>9.0</td>\n",
       "      <td>10.0</td>\n",
       "      <td>10.0</td>\n",
       "      <td>10.0</td>\n",
       "      <td>9.0</td>\n",
       "      <td>89.0</td>\n",
       "      <td>9.0</td>\n",
       "    </tr>\n",
       "    <tr>\n",
       "      <th>25</th>\n",
       "      <td>144</td>\n",
       "      <td>62</td>\n",
       "      <td>1.44</td>\n",
       "      <td>9.0</td>\n",
       "      <td>9.0</td>\n",
       "      <td>10.0</td>\n",
       "      <td>9.0</td>\n",
       "      <td>9.0</td>\n",
       "      <td>89.0</td>\n",
       "      <td>9.0</td>\n",
       "    </tr>\n",
       "    <tr>\n",
       "      <th>26</th>\n",
       "      <td>1</td>\n",
       "      <td>55</td>\n",
       "      <td>0.01</td>\n",
       "      <td>0.0</td>\n",
       "      <td>0.0</td>\n",
       "      <td>0.0</td>\n",
       "      <td>0.0</td>\n",
       "      <td>0.0</td>\n",
       "      <td>0.0</td>\n",
       "      <td>0.0</td>\n",
       "    </tr>\n",
       "    <tr>\n",
       "      <th>27</th>\n",
       "      <td>33</td>\n",
       "      <td>40</td>\n",
       "      <td>1.63</td>\n",
       "      <td>9.0</td>\n",
       "      <td>9.0</td>\n",
       "      <td>10.0</td>\n",
       "      <td>10.0</td>\n",
       "      <td>9.0</td>\n",
       "      <td>88.0</td>\n",
       "      <td>9.0</td>\n",
       "    </tr>\n",
       "    <tr>\n",
       "      <th>28</th>\n",
       "      <td>21</td>\n",
       "      <td>25</td>\n",
       "      <td>0.21</td>\n",
       "      <td>10.0</td>\n",
       "      <td>9.0</td>\n",
       "      <td>10.0</td>\n",
       "      <td>10.0</td>\n",
       "      <td>9.0</td>\n",
       "      <td>91.0</td>\n",
       "      <td>10.0</td>\n",
       "    </tr>\n",
       "    <tr>\n",
       "      <th>29</th>\n",
       "      <td>307</td>\n",
       "      <td>52</td>\n",
       "      <td>3.04</td>\n",
       "      <td>9.0</td>\n",
       "      <td>10.0</td>\n",
       "      <td>10.0</td>\n",
       "      <td>10.0</td>\n",
       "      <td>10.0</td>\n",
       "      <td>95.0</td>\n",
       "      <td>10.0</td>\n",
       "    </tr>\n",
       "    <tr>\n",
       "      <th>...</th>\n",
       "      <td>...</td>\n",
       "      <td>...</td>\n",
       "      <td>...</td>\n",
       "      <td>...</td>\n",
       "      <td>...</td>\n",
       "      <td>...</td>\n",
       "      <td>...</td>\n",
       "      <td>...</td>\n",
       "      <td>...</td>\n",
       "      <td>...</td>\n",
       "    </tr>\n",
       "    <tr>\n",
       "      <th>70</th>\n",
       "      <td>197</td>\n",
       "      <td>53</td>\n",
       "      <td>2.23</td>\n",
       "      <td>9.0</td>\n",
       "      <td>10.0</td>\n",
       "      <td>10.0</td>\n",
       "      <td>10.0</td>\n",
       "      <td>10.0</td>\n",
       "      <td>94.0</td>\n",
       "      <td>10.0</td>\n",
       "    </tr>\n",
       "    <tr>\n",
       "      <th>71</th>\n",
       "      <td>2</td>\n",
       "      <td>70</td>\n",
       "      <td>1.54</td>\n",
       "      <td>10.0</td>\n",
       "      <td>10.0</td>\n",
       "      <td>10.0</td>\n",
       "      <td>9.0</td>\n",
       "      <td>10.0</td>\n",
       "      <td>100.0</td>\n",
       "      <td>10.0</td>\n",
       "    </tr>\n",
       "    <tr>\n",
       "      <th>72</th>\n",
       "      <td>265</td>\n",
       "      <td>92</td>\n",
       "      <td>2.86</td>\n",
       "      <td>9.0</td>\n",
       "      <td>10.0</td>\n",
       "      <td>10.0</td>\n",
       "      <td>10.0</td>\n",
       "      <td>10.0</td>\n",
       "      <td>96.0</td>\n",
       "      <td>9.0</td>\n",
       "    </tr>\n",
       "    <tr>\n",
       "      <th>73</th>\n",
       "      <td>47</td>\n",
       "      <td>75</td>\n",
       "      <td>1.09</td>\n",
       "      <td>9.0</td>\n",
       "      <td>10.0</td>\n",
       "      <td>9.0</td>\n",
       "      <td>10.0</td>\n",
       "      <td>10.0</td>\n",
       "      <td>92.0</td>\n",
       "      <td>9.0</td>\n",
       "    </tr>\n",
       "    <tr>\n",
       "      <th>74</th>\n",
       "      <td>44</td>\n",
       "      <td>80</td>\n",
       "      <td>0.48</td>\n",
       "      <td>9.0</td>\n",
       "      <td>10.0</td>\n",
       "      <td>9.0</td>\n",
       "      <td>9.0</td>\n",
       "      <td>8.0</td>\n",
       "      <td>92.0</td>\n",
       "      <td>8.0</td>\n",
       "    </tr>\n",
       "    <tr>\n",
       "      <th>75</th>\n",
       "      <td>167</td>\n",
       "      <td>48</td>\n",
       "      <td>1.82</td>\n",
       "      <td>9.0</td>\n",
       "      <td>10.0</td>\n",
       "      <td>10.0</td>\n",
       "      <td>10.0</td>\n",
       "      <td>10.0</td>\n",
       "      <td>94.0</td>\n",
       "      <td>10.0</td>\n",
       "    </tr>\n",
       "    <tr>\n",
       "      <th>76</th>\n",
       "      <td>57</td>\n",
       "      <td>114</td>\n",
       "      <td>0.63</td>\n",
       "      <td>9.0</td>\n",
       "      <td>10.0</td>\n",
       "      <td>10.0</td>\n",
       "      <td>10.0</td>\n",
       "      <td>9.0</td>\n",
       "      <td>96.0</td>\n",
       "      <td>10.0</td>\n",
       "    </tr>\n",
       "    <tr>\n",
       "      <th>77</th>\n",
       "      <td>44</td>\n",
       "      <td>60</td>\n",
       "      <td>0.48</td>\n",
       "      <td>10.0</td>\n",
       "      <td>10.0</td>\n",
       "      <td>10.0</td>\n",
       "      <td>10.0</td>\n",
       "      <td>9.0</td>\n",
       "      <td>99.0</td>\n",
       "      <td>10.0</td>\n",
       "    </tr>\n",
       "    <tr>\n",
       "      <th>78</th>\n",
       "      <td>112</td>\n",
       "      <td>506</td>\n",
       "      <td>1.24</td>\n",
       "      <td>9.0</td>\n",
       "      <td>9.0</td>\n",
       "      <td>9.0</td>\n",
       "      <td>9.0</td>\n",
       "      <td>10.0</td>\n",
       "      <td>94.0</td>\n",
       "      <td>10.0</td>\n",
       "    </tr>\n",
       "    <tr>\n",
       "      <th>79</th>\n",
       "      <td>154</td>\n",
       "      <td>50</td>\n",
       "      <td>1.69</td>\n",
       "      <td>9.0</td>\n",
       "      <td>9.0</td>\n",
       "      <td>9.0</td>\n",
       "      <td>10.0</td>\n",
       "      <td>9.0</td>\n",
       "      <td>89.0</td>\n",
       "      <td>9.0</td>\n",
       "    </tr>\n",
       "    <tr>\n",
       "      <th>80</th>\n",
       "      <td>91</td>\n",
       "      <td>82</td>\n",
       "      <td>1.00</td>\n",
       "      <td>9.0</td>\n",
       "      <td>9.0</td>\n",
       "      <td>10.0</td>\n",
       "      <td>10.0</td>\n",
       "      <td>10.0</td>\n",
       "      <td>95.0</td>\n",
       "      <td>10.0</td>\n",
       "    </tr>\n",
       "    <tr>\n",
       "      <th>81</th>\n",
       "      <td>59</td>\n",
       "      <td>80</td>\n",
       "      <td>0.66</td>\n",
       "      <td>10.0</td>\n",
       "      <td>10.0</td>\n",
       "      <td>10.0</td>\n",
       "      <td>10.0</td>\n",
       "      <td>10.0</td>\n",
       "      <td>99.0</td>\n",
       "      <td>10.0</td>\n",
       "    </tr>\n",
       "    <tr>\n",
       "      <th>82</th>\n",
       "      <td>68</td>\n",
       "      <td>60</td>\n",
       "      <td>0.77</td>\n",
       "      <td>9.0</td>\n",
       "      <td>9.0</td>\n",
       "      <td>10.0</td>\n",
       "      <td>10.0</td>\n",
       "      <td>10.0</td>\n",
       "      <td>96.0</td>\n",
       "      <td>10.0</td>\n",
       "    </tr>\n",
       "    <tr>\n",
       "      <th>83</th>\n",
       "      <td>114</td>\n",
       "      <td>70</td>\n",
       "      <td>1.33</td>\n",
       "      <td>9.0</td>\n",
       "      <td>10.0</td>\n",
       "      <td>9.0</td>\n",
       "      <td>9.0</td>\n",
       "      <td>10.0</td>\n",
       "      <td>91.0</td>\n",
       "      <td>9.0</td>\n",
       "    </tr>\n",
       "    <tr>\n",
       "      <th>84</th>\n",
       "      <td>53</td>\n",
       "      <td>130</td>\n",
       "      <td>0.74</td>\n",
       "      <td>10.0</td>\n",
       "      <td>10.0</td>\n",
       "      <td>10.0</td>\n",
       "      <td>10.0</td>\n",
       "      <td>10.0</td>\n",
       "      <td>99.0</td>\n",
       "      <td>10.0</td>\n",
       "    </tr>\n",
       "    <tr>\n",
       "      <th>85</th>\n",
       "      <td>3</td>\n",
       "      <td>69</td>\n",
       "      <td>0.05</td>\n",
       "      <td>10.0</td>\n",
       "      <td>10.0</td>\n",
       "      <td>10.0</td>\n",
       "      <td>9.0</td>\n",
       "      <td>10.0</td>\n",
       "      <td>100.0</td>\n",
       "      <td>9.0</td>\n",
       "    </tr>\n",
       "    <tr>\n",
       "      <th>86</th>\n",
       "      <td>3</td>\n",
       "      <td>75</td>\n",
       "      <td>0.06</td>\n",
       "      <td>10.0</td>\n",
       "      <td>10.0</td>\n",
       "      <td>10.0</td>\n",
       "      <td>10.0</td>\n",
       "      <td>10.0</td>\n",
       "      <td>100.0</td>\n",
       "      <td>10.0</td>\n",
       "    </tr>\n",
       "    <tr>\n",
       "      <th>87</th>\n",
       "      <td>84</td>\n",
       "      <td>68</td>\n",
       "      <td>0.93</td>\n",
       "      <td>9.0</td>\n",
       "      <td>10.0</td>\n",
       "      <td>10.0</td>\n",
       "      <td>10.0</td>\n",
       "      <td>10.0</td>\n",
       "      <td>94.0</td>\n",
       "      <td>10.0</td>\n",
       "    </tr>\n",
       "    <tr>\n",
       "      <th>88</th>\n",
       "      <td>5</td>\n",
       "      <td>125</td>\n",
       "      <td>0.06</td>\n",
       "      <td>9.0</td>\n",
       "      <td>10.0</td>\n",
       "      <td>10.0</td>\n",
       "      <td>10.0</td>\n",
       "      <td>8.0</td>\n",
       "      <td>95.0</td>\n",
       "      <td>8.0</td>\n",
       "    </tr>\n",
       "    <tr>\n",
       "      <th>89</th>\n",
       "      <td>26</td>\n",
       "      <td>70</td>\n",
       "      <td>0.49</td>\n",
       "      <td>10.0</td>\n",
       "      <td>9.0</td>\n",
       "      <td>10.0</td>\n",
       "      <td>10.0</td>\n",
       "      <td>10.0</td>\n",
       "      <td>97.0</td>\n",
       "      <td>10.0</td>\n",
       "    </tr>\n",
       "    <tr>\n",
       "      <th>90</th>\n",
       "      <td>443</td>\n",
       "      <td>89</td>\n",
       "      <td>5.20</td>\n",
       "      <td>10.0</td>\n",
       "      <td>10.0</td>\n",
       "      <td>10.0</td>\n",
       "      <td>10.0</td>\n",
       "      <td>10.0</td>\n",
       "      <td>96.0</td>\n",
       "      <td>10.0</td>\n",
       "    </tr>\n",
       "    <tr>\n",
       "      <th>91</th>\n",
       "      <td>16</td>\n",
       "      <td>59</td>\n",
       "      <td>0.37</td>\n",
       "      <td>10.0</td>\n",
       "      <td>10.0</td>\n",
       "      <td>10.0</td>\n",
       "      <td>10.0</td>\n",
       "      <td>9.0</td>\n",
       "      <td>98.0</td>\n",
       "      <td>10.0</td>\n",
       "    </tr>\n",
       "    <tr>\n",
       "      <th>92</th>\n",
       "      <td>148</td>\n",
       "      <td>96</td>\n",
       "      <td>1.67</td>\n",
       "      <td>9.0</td>\n",
       "      <td>9.0</td>\n",
       "      <td>9.0</td>\n",
       "      <td>9.0</td>\n",
       "      <td>9.0</td>\n",
       "      <td>85.0</td>\n",
       "      <td>9.0</td>\n",
       "    </tr>\n",
       "    <tr>\n",
       "      <th>93</th>\n",
       "      <td>191</td>\n",
       "      <td>75</td>\n",
       "      <td>2.13</td>\n",
       "      <td>10.0</td>\n",
       "      <td>9.0</td>\n",
       "      <td>10.0</td>\n",
       "      <td>10.0</td>\n",
       "      <td>10.0</td>\n",
       "      <td>95.0</td>\n",
       "      <td>10.0</td>\n",
       "    </tr>\n",
       "    <tr>\n",
       "      <th>94</th>\n",
       "      <td>226</td>\n",
       "      <td>55</td>\n",
       "      <td>2.54</td>\n",
       "      <td>10.0</td>\n",
       "      <td>10.0</td>\n",
       "      <td>10.0</td>\n",
       "      <td>9.0</td>\n",
       "      <td>10.0</td>\n",
       "      <td>96.0</td>\n",
       "      <td>10.0</td>\n",
       "    </tr>\n",
       "    <tr>\n",
       "      <th>95</th>\n",
       "      <td>55</td>\n",
       "      <td>55</td>\n",
       "      <td>0.63</td>\n",
       "      <td>9.0</td>\n",
       "      <td>9.0</td>\n",
       "      <td>9.0</td>\n",
       "      <td>9.0</td>\n",
       "      <td>9.0</td>\n",
       "      <td>91.0</td>\n",
       "      <td>10.0</td>\n",
       "    </tr>\n",
       "    <tr>\n",
       "      <th>96</th>\n",
       "      <td>107</td>\n",
       "      <td>70</td>\n",
       "      <td>1.41</td>\n",
       "      <td>9.0</td>\n",
       "      <td>9.0</td>\n",
       "      <td>9.0</td>\n",
       "      <td>9.0</td>\n",
       "      <td>9.0</td>\n",
       "      <td>94.0</td>\n",
       "      <td>10.0</td>\n",
       "    </tr>\n",
       "    <tr>\n",
       "      <th>97</th>\n",
       "      <td>39</td>\n",
       "      <td>31</td>\n",
       "      <td>0.45</td>\n",
       "      <td>10.0</td>\n",
       "      <td>10.0</td>\n",
       "      <td>10.0</td>\n",
       "      <td>10.0</td>\n",
       "      <td>10.0</td>\n",
       "      <td>98.0</td>\n",
       "      <td>10.0</td>\n",
       "    </tr>\n",
       "    <tr>\n",
       "      <th>98</th>\n",
       "      <td>47</td>\n",
       "      <td>40</td>\n",
       "      <td>0.54</td>\n",
       "      <td>8.0</td>\n",
       "      <td>10.0</td>\n",
       "      <td>10.0</td>\n",
       "      <td>9.0</td>\n",
       "      <td>8.0</td>\n",
       "      <td>90.0</td>\n",
       "      <td>9.0</td>\n",
       "    </tr>\n",
       "    <tr>\n",
       "      <th>99</th>\n",
       "      <td>10</td>\n",
       "      <td>81</td>\n",
       "      <td>0.26</td>\n",
       "      <td>9.0</td>\n",
       "      <td>10.0</td>\n",
       "      <td>9.0</td>\n",
       "      <td>9.0</td>\n",
       "      <td>8.0</td>\n",
       "      <td>85.0</td>\n",
       "      <td>9.0</td>\n",
       "    </tr>\n",
       "  </tbody>\n",
       "</table>\n",
       "<p>100 rows × 10 columns</p>\n",
       "</div>"
      ],
      "text/plain": [
       "    number_of_reviews  price  reviews_per_month  review_scores_value  \\\n",
       "0                 118     60               3.76                  9.0   \n",
       "1                   6     17               1.42                 10.0   \n",
       "2                 143     90               1.25                  9.0   \n",
       "3                  25     26               0.39                  9.0   \n",
       "4                 197     42               1.75                  9.0   \n",
       "5                   6    180               0.15                 10.0   \n",
       "6                  23     70               0.23                  9.0   \n",
       "7                   0    120               0.00                  0.0   \n",
       "8                  48     90               0.47                  9.0   \n",
       "9                 279     45               2.83                 10.0   \n",
       "10                223     49               2.10                  9.0   \n",
       "11                 56    129               0.75                  9.0   \n",
       "12                 60     70               0.61                  9.0   \n",
       "13                 61     98               0.59                  9.0   \n",
       "14                223    160               2.27                  9.0   \n",
       "15                 96     65               0.94                  9.0   \n",
       "16                 18     90               0.18                 10.0   \n",
       "17                  5     90               0.05                 10.0   \n",
       "18                163    197               1.63                  9.0   \n",
       "19                 28     70               0.29                  9.0   \n",
       "20                 30     90               0.33                  9.0   \n",
       "21                  1     60               0.02                 10.0   \n",
       "22                 69    130               0.70                  9.0   \n",
       "23                240    100               2.42                  9.0   \n",
       "24                 28     44               4.94                  9.0   \n",
       "25                144     62               1.44                  9.0   \n",
       "26                  1     55               0.01                  0.0   \n",
       "27                 33     40               1.63                  9.0   \n",
       "28                 21     25               0.21                 10.0   \n",
       "29                307     52               3.04                  9.0   \n",
       "..                ...    ...                ...                  ...   \n",
       "70                197     53               2.23                  9.0   \n",
       "71                  2     70               1.54                 10.0   \n",
       "72                265     92               2.86                  9.0   \n",
       "73                 47     75               1.09                  9.0   \n",
       "74                 44     80               0.48                  9.0   \n",
       "75                167     48               1.82                  9.0   \n",
       "76                 57    114               0.63                  9.0   \n",
       "77                 44     60               0.48                 10.0   \n",
       "78                112    506               1.24                  9.0   \n",
       "79                154     50               1.69                  9.0   \n",
       "80                 91     82               1.00                  9.0   \n",
       "81                 59     80               0.66                 10.0   \n",
       "82                 68     60               0.77                  9.0   \n",
       "83                114     70               1.33                  9.0   \n",
       "84                 53    130               0.74                 10.0   \n",
       "85                  3     69               0.05                 10.0   \n",
       "86                  3     75               0.06                 10.0   \n",
       "87                 84     68               0.93                  9.0   \n",
       "88                  5    125               0.06                  9.0   \n",
       "89                 26     70               0.49                 10.0   \n",
       "90                443     89               5.20                 10.0   \n",
       "91                 16     59               0.37                 10.0   \n",
       "92                148     96               1.67                  9.0   \n",
       "93                191     75               2.13                 10.0   \n",
       "94                226     55               2.54                 10.0   \n",
       "95                 55     55               0.63                  9.0   \n",
       "96                107     70               1.41                  9.0   \n",
       "97                 39     31               0.45                 10.0   \n",
       "98                 47     40               0.54                  8.0   \n",
       "99                 10     81               0.26                  9.0   \n",
       "\n",
       "    review_scores_location  review_scores_communication  \\\n",
       "0                     10.0                         10.0   \n",
       "1                     10.0                         10.0   \n",
       "2                     10.0                          9.0   \n",
       "3                      9.0                         10.0   \n",
       "4                     10.0                         10.0   \n",
       "5                     10.0                         10.0   \n",
       "6                      9.0                         10.0   \n",
       "7                      0.0                          0.0   \n",
       "8                      9.0                         10.0   \n",
       "9                     10.0                         10.0   \n",
       "10                    10.0                         10.0   \n",
       "11                    10.0                          8.0   \n",
       "12                     9.0                          9.0   \n",
       "13                    10.0                         10.0   \n",
       "14                    10.0                         10.0   \n",
       "15                     9.0                          9.0   \n",
       "16                    10.0                          9.0   \n",
       "17                    10.0                         10.0   \n",
       "18                    10.0                          9.0   \n",
       "19                     9.0                         10.0   \n",
       "20                     9.0                          9.0   \n",
       "21                    10.0                         10.0   \n",
       "22                    10.0                         10.0   \n",
       "23                    10.0                         10.0   \n",
       "24                    10.0                         10.0   \n",
       "25                     9.0                         10.0   \n",
       "26                     0.0                          0.0   \n",
       "27                     9.0                         10.0   \n",
       "28                     9.0                         10.0   \n",
       "29                    10.0                         10.0   \n",
       "..                     ...                          ...   \n",
       "70                    10.0                         10.0   \n",
       "71                    10.0                         10.0   \n",
       "72                    10.0                         10.0   \n",
       "73                    10.0                          9.0   \n",
       "74                    10.0                          9.0   \n",
       "75                    10.0                         10.0   \n",
       "76                    10.0                         10.0   \n",
       "77                    10.0                         10.0   \n",
       "78                     9.0                          9.0   \n",
       "79                     9.0                          9.0   \n",
       "80                     9.0                         10.0   \n",
       "81                    10.0                         10.0   \n",
       "82                     9.0                         10.0   \n",
       "83                    10.0                          9.0   \n",
       "84                    10.0                         10.0   \n",
       "85                    10.0                         10.0   \n",
       "86                    10.0                         10.0   \n",
       "87                    10.0                         10.0   \n",
       "88                    10.0                         10.0   \n",
       "89                     9.0                         10.0   \n",
       "90                    10.0                         10.0   \n",
       "91                    10.0                         10.0   \n",
       "92                     9.0                          9.0   \n",
       "93                     9.0                         10.0   \n",
       "94                    10.0                         10.0   \n",
       "95                     9.0                          9.0   \n",
       "96                     9.0                          9.0   \n",
       "97                    10.0                         10.0   \n",
       "98                    10.0                         10.0   \n",
       "99                    10.0                          9.0   \n",
       "\n",
       "    review_scores_checkin  review_scores_cleanliness  review_scores_rating  \\\n",
       "0                    10.0                        9.0                  93.0   \n",
       "1                    10.0                       10.0                 100.0   \n",
       "2                     9.0                        9.0                  92.0   \n",
       "3                     9.0                        9.0                  88.0   \n",
       "4                    10.0                       10.0                  96.0   \n",
       "5                    10.0                       10.0                 100.0   \n",
       "6                     9.0                       10.0                  93.0   \n",
       "7                     0.0                        0.0                   0.0   \n",
       "8                    10.0                       10.0                  94.0   \n",
       "9                    10.0                       10.0                  96.0   \n",
       "10                   10.0                        9.0                  96.0   \n",
       "11                    9.0                        9.0                  87.0   \n",
       "12                   10.0                       10.0                  95.0   \n",
       "13                   10.0                        9.0                  94.0   \n",
       "14                   10.0                        9.0                  94.0   \n",
       "15                    9.0                        9.0                  87.0   \n",
       "16                   10.0                       10.0                  94.0   \n",
       "17                   10.0                       10.0                 100.0   \n",
       "18                    9.0                        9.0                  91.0   \n",
       "19                   10.0                       10.0                  92.0   \n",
       "20                    8.0                       10.0                  91.0   \n",
       "21                   10.0                       10.0                 100.0   \n",
       "22                   10.0                       10.0                  96.0   \n",
       "23                   10.0                       10.0                  95.0   \n",
       "24                   10.0                        9.0                  89.0   \n",
       "25                    9.0                        9.0                  89.0   \n",
       "26                    0.0                        0.0                   0.0   \n",
       "27                   10.0                        9.0                  88.0   \n",
       "28                   10.0                        9.0                  91.0   \n",
       "29                   10.0                       10.0                  95.0   \n",
       "..                    ...                        ...                   ...   \n",
       "70                   10.0                       10.0                  94.0   \n",
       "71                    9.0                       10.0                 100.0   \n",
       "72                   10.0                       10.0                  96.0   \n",
       "73                   10.0                       10.0                  92.0   \n",
       "74                    9.0                        8.0                  92.0   \n",
       "75                   10.0                       10.0                  94.0   \n",
       "76                   10.0                        9.0                  96.0   \n",
       "77                   10.0                        9.0                  99.0   \n",
       "78                    9.0                       10.0                  94.0   \n",
       "79                   10.0                        9.0                  89.0   \n",
       "80                   10.0                       10.0                  95.0   \n",
       "81                   10.0                       10.0                  99.0   \n",
       "82                   10.0                       10.0                  96.0   \n",
       "83                    9.0                       10.0                  91.0   \n",
       "84                   10.0                       10.0                  99.0   \n",
       "85                    9.0                       10.0                 100.0   \n",
       "86                   10.0                       10.0                 100.0   \n",
       "87                   10.0                       10.0                  94.0   \n",
       "88                   10.0                        8.0                  95.0   \n",
       "89                   10.0                       10.0                  97.0   \n",
       "90                   10.0                       10.0                  96.0   \n",
       "91                   10.0                        9.0                  98.0   \n",
       "92                    9.0                        9.0                  85.0   \n",
       "93                   10.0                       10.0                  95.0   \n",
       "94                    9.0                       10.0                  96.0   \n",
       "95                    9.0                        9.0                  91.0   \n",
       "96                    9.0                        9.0                  94.0   \n",
       "97                   10.0                       10.0                  98.0   \n",
       "98                    9.0                        8.0                  90.0   \n",
       "99                    9.0                        8.0                  85.0   \n",
       "\n",
       "    review_scores_accuracy  \n",
       "0                     10.0  \n",
       "1                     10.0  \n",
       "2                      9.0  \n",
       "3                      9.0  \n",
       "4                     10.0  \n",
       "5                     10.0  \n",
       "6                     10.0  \n",
       "7                      0.0  \n",
       "8                     10.0  \n",
       "9                     10.0  \n",
       "10                    10.0  \n",
       "11                     9.0  \n",
       "12                     9.0  \n",
       "13                    10.0  \n",
       "14                     9.0  \n",
       "15                     9.0  \n",
       "16                    10.0  \n",
       "17                    10.0  \n",
       "18                     9.0  \n",
       "19                     9.0  \n",
       "20                     9.0  \n",
       "21                    10.0  \n",
       "22                    10.0  \n",
       "23                    10.0  \n",
       "24                     9.0  \n",
       "25                     9.0  \n",
       "26                     0.0  \n",
       "27                     9.0  \n",
       "28                    10.0  \n",
       "29                    10.0  \n",
       "..                     ...  \n",
       "70                    10.0  \n",
       "71                    10.0  \n",
       "72                     9.0  \n",
       "73                     9.0  \n",
       "74                     8.0  \n",
       "75                    10.0  \n",
       "76                    10.0  \n",
       "77                    10.0  \n",
       "78                    10.0  \n",
       "79                     9.0  \n",
       "80                    10.0  \n",
       "81                    10.0  \n",
       "82                    10.0  \n",
       "83                     9.0  \n",
       "84                    10.0  \n",
       "85                     9.0  \n",
       "86                    10.0  \n",
       "87                    10.0  \n",
       "88                     8.0  \n",
       "89                    10.0  \n",
       "90                    10.0  \n",
       "91                    10.0  \n",
       "92                     9.0  \n",
       "93                    10.0  \n",
       "94                    10.0  \n",
       "95                    10.0  \n",
       "96                    10.0  \n",
       "97                    10.0  \n",
       "98                     9.0  \n",
       "99                     9.0  \n",
       "\n",
       "[100 rows x 10 columns]"
      ]
     },
     "execution_count": 43,
     "metadata": {},
     "output_type": "execute_result"
    }
   ],
   "source": [
    "berlinee[:100]"
   ]
  },
  {
   "cell_type": "markdown",
   "metadata": {},
   "source": [
    "## Cleaning the data field "
   ]
  },
  {
   "cell_type": "raw",
   "metadata": {},
   "source": [
    "cleaning the data refers to see whether there is any null value in the dataset or not if any we need to remove or replace the null value with someother value so that it get easier for analysis"
   ]
  },
  {
   "cell_type": "raw",
   "metadata": {},
   "source": [
    "have seeing the null value presence onlyn in the data field which i need for analysis"
   ]
  },
  {
   "cell_type": "code",
   "execution_count": 42,
   "metadata": {},
   "outputs": [
    {
     "data": {
      "text/plain": [
       "<matplotlib.axes._subplots.AxesSubplot at 0x1de9dbe69e8>"
      ]
     },
     "execution_count": 42,
     "metadata": {},
     "output_type": "execute_result"
    },
    {
     "data": {
      "image/png": "[encoded data removed]",
      "text/plain": [
       "<Figure size 432x288 with 2 Axes>"
      ]
     },
     "metadata": {
      "needs_background": "light"
     },
     "output_type": "display_data"
    }
   ],
   "source": [
    "sb.heatmap(berlinee.isnull(),cmap='summer')"
   ]
  },
  {
   "cell_type": "markdown",
   "metadata": {},
   "source": [
    "#### VISIUALLY TO KNOW HOW THE BERLINE PRICE IS RELATED OR VARIED WITH RESPECT TO THE DIMENSION "
   ]
  },
  {
   "cell_type": "raw",
   "metadata": {},
   "source": [
    "DIMENSIONS WILL BE 'number_of_reviews','price','reviews_per_month','review_scores_value','review_scores_location','review_scores_communication','review_scores_checkin','review_scores_cleanliness','review_scores_rating','review_scores_accuracy'"
   ]
  },
  {
   "cell_type": "code",
   "execution_count": 37,
   "metadata": {},
   "outputs": [
    {
     "data": {
      "text/plain": [
       "Text(0.5, 1.0, 'Relation of berline price with repect to number of reviews')"
      ]
     },
     "execution_count": 37,
     "metadata": {},
     "output_type": "execute_result"
    },
    {
     "data": {
      "image/png": "[encoded data removed]",
      "text/plain": [
       "<Figure size 288x288 with 6 Axes>"
      ]
     },
     "metadata": {
      "needs_background": "light"
     },
     "output_type": "display_data"
    }
   ],
   "source": [
    "numb_of_reviews=berlin[['number_of_reviews','price']]\n",
    "sb.pairplot(numb_of_reviews,height=2)\n",
    "plt.title('Relation of berline price with repect to number of reviews')"
   ]
  },
  {
   "cell_type": "code",
   "execution_count": 17,
   "metadata": {},
   "outputs": [
    {
     "name": "stdout",
     "output_type": "stream",
     "text": [
      "\n",
      " <seaborn.axisgrid.PairGrid object at 0x000001DE984EE5F8>\n"
     ]
    },
    {
     "data": {
      "image/png": "[encoded data removed]",
      "text/plain": [
       "<Figure size 288x288 with 6 Axes>"
      ]
     },
     "metadata": {
      "needs_background": "light"
     },
     "output_type": "display_data"
    }
   ],
   "source": [
    "reviews_by_cleanliness=berlin[['review_scores_cleanliness','price']]\n",
    "print('\\n',sb.pairplot(reviews_by_cleanliness,height=2))\n",
    "plt.title('Relation of berline price with repect to reviews by cleanliness')"
   ]
  },
  {
   "cell_type": "code",
   "execution_count": 19,
   "metadata": {},
   "outputs": [
    {
     "name": "stdout",
     "output_type": "stream",
     "text": [
      "\n",
      " <seaborn.axisgrid.PairGrid object at 0x000001DE9892D630>\n"
     ]
    },
    {
     "data": {
      "image/png": "[encoded data removed]",
      "text/plain": [
       "<Figure size 288x288 with 6 Axes>"
      ]
     },
     "metadata": {
      "needs_background": "light"
     },
     "output_type": "display_data"
    }
   ],
   "source": [
    "reviews_by_rating=berlin[['review_scores_rating','price']].fillna(0)\n",
    "print('\\n',sb.pairplot(reviews_by_rating,height=2))\n",
    "plt.title('Relation of berline price with repect to reviews by rating')"
   ]
  },
  {
   "cell_type": "code",
   "execution_count": 21,
   "metadata": {},
   "outputs": [
    {
     "name": "stdout",
     "output_type": "stream",
     "text": [
      "\n",
      " <seaborn.axisgrid.PairGrid object at 0x000001DE98A70668>\n"
     ]
    },
    {
     "data": {
      "image/png": "[encoded data removed]",
      "text/plain": [
       "<Figure size 288x288 with 6 Axes>"
      ]
     },
     "metadata": {
      "needs_background": "light"
     },
     "output_type": "display_data"
    }
   ],
   "source": [
    "reviews_by_month=berlin[['reviews_per_month','price']].fillna(0)\n",
    "print('\\n',sb.pairplot(reviews_by_month,height=2))\n",
    "plt.title('Relation of berline price with repect to reviews by month)"
   ]
  },
  {
   "cell_type": "code",
   "execution_count": 22,
   "metadata": {},
   "outputs": [
    {
     "name": "stdout",
     "output_type": "stream",
     "text": [
      "\n",
      " <seaborn.axisgrid.PairGrid object at 0x000001DE96D682E8>\n"
     ]
    },
    {
     "data": {
      "image/png": "[encoded data removed]",
      "text/plain": [
       "<Figure size 288x288 with 6 Axes>"
      ]
     },
     "metadata": {
      "needs_background": "light"
     },
     "output_type": "display_data"
    }
   ],
   "source": [
    "reviews_by_location=berlin[['review_scores_location','price']].fillna(0)\n",
    "print('\\n',sb.pairplot(reviews_by_location,height=2))\n",
    "plt.title('Relation of berline price with repect to reviews by location')"
   ]
  },
  {
   "cell_type": "code",
   "execution_count": 25,
   "metadata": {},
   "outputs": [
    {
     "name": "stdout",
     "output_type": "stream",
     "text": [
      "\n",
      " <seaborn.axisgrid.PairGrid object at 0x000001DE9828B5C0>\n"
     ]
    },
    {
     "data": {
      "text/plain": [
       "Text(0.5, 1.0, 'Relation between reviews_by_communication with price')"
      ]
     },
     "execution_count": 25,
     "metadata": {},
     "output_type": "execute_result"
    },
    {
     "data": {
      "image/png": "[encoded data removed]",
      "text/plain": [
       "<Figure size 288x288 with 6 Axes>"
      ]
     },
     "metadata": {
      "needs_background": "light"
     },
     "output_type": "display_data"
    }
   ],
   "source": [
    "reviews_by_communication=berlin[['review_scores_communication','price']].fillna(0)\n",
    "print('\\n',sb.pairplot(reviews_by_communication,height=2))\n",
    "plt.title('Relation of berline price with repect to reviews by communication')"
   ]
  },
  {
   "cell_type": "code",
   "execution_count": 31,
   "metadata": {},
   "outputs": [
    {
     "name": "stdout",
     "output_type": "stream",
     "text": [
      "\n",
      " <seaborn.axisgrid.PairGrid object at 0x000001DE9C15B0F0>\n"
     ]
    },
    {
     "data": {
      "text/plain": [
       "Text(0.5, 1.0, ' Relationship between reviews_by_accuracy and price')"
      ]
     },
     "execution_count": 31,
     "metadata": {},
     "output_type": "execute_result"
    },
    {
     "data": {
      "image/png": "[encoded data removed]",
      "text/plain": [
       "<Figure size 288x288 with 6 Axes>"
      ]
     },
     "metadata": {
      "needs_background": "light"
     },
     "output_type": "display_data"
    }
   ],
   "source": [
    "reviews_by_accuracy=berlin[['review_scores_accuracy','price']].fillna(0)\n",
    "print('\\n',sb.pairplot(reviews_by_accuracy,height=2))\n",
    "plt.title('Relation of berline price with repect to reviews by accuracy')"
   ]
  },
  {
   "cell_type": "code",
   "execution_count": 32,
   "metadata": {},
   "outputs": [
    {
     "name": "stdout",
     "output_type": "stream",
     "text": [
      "\n",
      " <seaborn.axisgrid.PairGrid object at 0x000001DE9C12D390>\n"
     ]
    },
    {
     "data": {
      "text/plain": [
       "Text(0.5, 1.0, 'relation of berline price with repect to reviews by value')"
      ]
     },
     "execution_count": 32,
     "metadata": {},
     "output_type": "execute_result"
    },
    {
     "data": {
      "image/png": "[encoded data removed]",
      "text/plain": [
       "<Figure size 288x288 with 6 Axes>"
      ]
     },
     "metadata": {
      "needs_background": "light"
     },
     "output_type": "display_data"
    }
   ],
   "source": [
    "reviews_by_value=berlin[['review_scores_value','price']].fillna(0)\n",
    "print('\\n',sb.pairplot(reviews_by_value,height=2))\n",
    "plt.title('Relation of berline price with repect to reviews by value')"
   ]
  },
  {
   "cell_type": "markdown",
   "metadata": {},
   "source": [
    "##### Now finding the correlation between the dimensions and price"
   ]
  },
  {
   "cell_type": "code",
   "execution_count": 40,
   "metadata": {},
   "outputs": [
    {
     "data": {
      "text/plain": [
       "<matplotlib.axes._subplots.AxesSubplot at 0x1de9d989c50>"
      ]
     },
     "execution_count": 40,
     "metadata": {},
     "output_type": "execute_result"
    },
    {
     "data": {
      "image/png": "[encoded data removed]",
      "text/plain": [
       "<Figure size 432x288 with 2 Axes>"
      ]
     },
     "metadata": {
      "needs_background": "light"
     },
     "output_type": "display_data"
    }
   ],
   "source": [
    "sb.heatmap(berlinee.corr(),cmap='winter')"
   ]
  },
  {
   "cell_type": "markdown",
   "metadata": {},
   "source": [
    "###  Now training the model"
   ]
  },
  {
   "cell_type": "code",
   "execution_count": 44,
   "metadata": {},
   "outputs": [],
   "source": [
    "from sklearn.model_selection import train_test_split\n",
    "from sklearn import preprocessing\n",
    "from sklearn.linear_model import LinearRegression\n",
    "from sklearn.preprocessing import StandardScaler"
   ]
  },
  {
   "cell_type": "code",
   "execution_count": 70,
   "metadata": {},
   "outputs": [],
   "source": [
    "X=berlinee[['number_of_reviews','reviews_per_month','review_scores_value','review_scores_location','review_scores_communication','review_scores_checkin','review_scores_cleanliness','review_scores_rating','review_scores_accuracy']]\n",
    "y=berlinee['price']"
   ]
  },
  {
   "cell_type": "raw",
   "metadata": {},
   "source": [
    "Now creating an object of the function"
   ]
  },
  {
   "cell_type": "code",
   "execution_count": 71,
   "metadata": {},
   "outputs": [],
   "source": [
    "sc=StandardScaler()\n",
    "lr=LinearRegression()"
   ]
  },
  {
   "cell_type": "raw",
   "metadata": {},
   "source": [
    "dividing the data fields into training set data to train the model then remaining to test data for testing the trained model"
   ]
  },
  {
   "cell_type": "raw",
   "metadata": {},
   "source": [
    "here we are considering 77-23 ration where 77% of the data is considered for training and 23% for testing"
   ]
  },
  {
   "cell_type": "code",
   "execution_count": 72,
   "metadata": {},
   "outputs": [],
   "source": [
    " X_train, X_test, y_train, y_test = train_test_split(X, y, test_size=0.33, random_state=42)"
   ]
  },
  {
   "cell_type": "code",
   "execution_count": 73,
   "metadata": {},
   "outputs": [
    {
     "name": "stderr",
     "output_type": "stream",
     "text": [
      "C:\\Users\\User\\Desktop\\python\\New folder\\anaconda1\\lib\\site-packages\\sklearn\\preprocessing\\data.py:625: DataConversionWarning: Data with input dtype int64, float64 were all converted to float64 by StandardScaler.\n",
      "  return self.partial_fit(X, y)\n",
      "C:\\Users\\User\\Desktop\\python\\New folder\\anaconda1\\lib\\site-packages\\sklearn\\base.py:462: DataConversionWarning: Data with input dtype int64, float64 were all converted to float64 by StandardScaler.\n",
      "  return self.fit(X, **fit_params).transform(X)\n",
      "C:\\Users\\User\\Desktop\\python\\New folder\\anaconda1\\lib\\site-packages\\ipykernel_launcher.py:2: DataConversionWarning: Data with input dtype int64, float64 were all converted to float64 by StandardScaler.\n",
      "  \n"
     ]
    }
   ],
   "source": [
    "X_train=sc.fit_transform(X_train)\n",
    "X_test=sc.transform(X_test)"
   ]
  },
  {
   "cell_type": "code",
   "execution_count": 74,
   "metadata": {},
   "outputs": [
    {
     "data": {
      "text/plain": [
       "LinearRegression(copy_X=True, fit_intercept=True, n_jobs=None,\n",
       "         normalize=False)"
      ]
     },
     "execution_count": 74,
     "metadata": {},
     "output_type": "execute_result"
    }
   ],
   "source": [
    "lr.fit(X_train,y_train)"
   ]
  },
  {
   "cell_type": "raw",
   "metadata": {},
   "source": [
    "As the fit_intercept is true then the model is exactly fitted so we can predict the co-effecient and the constant values"
   ]
  },
  {
   "cell_type": "raw",
   "metadata": {},
   "source": [
    "to find the coeffecient for find the linear line we know from general maths for drawing a linear line in a graph we need a formula saying y=(m*x)+c, where m is the slop/co-effecient and c is the constant"
   ]
  },
  {
   "cell_type": "code",
   "execution_count": 75,
   "metadata": {},
   "outputs": [
    {
     "data": {
      "text/plain": [
       "array([ 1.40566065e+00,  1.22847580e-02, -4.74544281e+01,  2.39769039e+01,\n",
       "        1.91172858e+01,  3.69495491e+01,  1.66409605e+01,  2.03234259e+00,\n",
       "       -6.30798440e+01])"
      ]
     },
     "execution_count": 75,
     "metadata": {},
     "output_type": "execute_result"
    }
   ],
   "source": [
    "lr.coef_"
   ]
  },
  {
   "cell_type": "code",
   "execution_count": 76,
   "metadata": {},
   "outputs": [
    {
     "data": {
      "text/plain": [
       "68.9015156529221"
      ]
     },
     "execution_count": 76,
     "metadata": {},
     "output_type": "execute_result"
    }
   ],
   "source": [
    "lr.intercept_"
   ]
  },
  {
   "cell_type": "code",
   "execution_count": 81,
   "metadata": {},
   "outputs": [
    {
     "data": {
      "text/plain": [
       "array([70.30451792, 91.5367467 , 51.38028904, ..., 62.97704599,\n",
       "       61.24185241, 64.68891838])"
      ]
     },
     "execution_count": 81,
     "metadata": {},
     "output_type": "execute_result"
    }
   ],
   "source": [
    "y_pred=lr.predict(X_test)\n",
    "y_pred"
   ]
  },
  {
   "cell_type": "code",
   "execution_count": 88,
   "metadata": {},
   "outputs": [
    {
     "data": {
      "text/html": [
       "<div>\n",
       "<style scoped>\n",
       "    .dataframe tbody tr th:only-of-type {\n",
       "        vertical-align: middle;\n",
       "    }\n",
       "\n",
       "    .dataframe tbody tr th {\n",
       "        vertical-align: top;\n",
       "    }\n",
       "\n",
       "    .dataframe thead th {\n",
       "        text-align: right;\n",
       "    }\n",
       "</style>\n",
       "<table border=\"1\" class=\"dataframe\">\n",
       "  <thead>\n",
       "    <tr style=\"text-align: right;\">\n",
       "      <th></th>\n",
       "      <th>coefficients</th>\n",
       "    </tr>\n",
       "  </thead>\n",
       "  <tbody>\n",
       "    <tr>\n",
       "      <th>number_of_reviews</th>\n",
       "      <td>1.405661</td>\n",
       "    </tr>\n",
       "    <tr>\n",
       "      <th>reviews_per_month</th>\n",
       "      <td>0.012285</td>\n",
       "    </tr>\n",
       "    <tr>\n",
       "      <th>review_scores_value</th>\n",
       "      <td>-47.454428</td>\n",
       "    </tr>\n",
       "    <tr>\n",
       "      <th>review_scores_location</th>\n",
       "      <td>23.976904</td>\n",
       "    </tr>\n",
       "    <tr>\n",
       "      <th>review_scores_communication</th>\n",
       "      <td>19.117286</td>\n",
       "    </tr>\n",
       "    <tr>\n",
       "      <th>review_scores_checkin</th>\n",
       "      <td>36.949549</td>\n",
       "    </tr>\n",
       "    <tr>\n",
       "      <th>review_scores_cleanliness</th>\n",
       "      <td>16.640961</td>\n",
       "    </tr>\n",
       "    <tr>\n",
       "      <th>review_scores_rating</th>\n",
       "      <td>2.032343</td>\n",
       "    </tr>\n",
       "    <tr>\n",
       "      <th>review_scores_accuracy</th>\n",
       "      <td>-63.079844</td>\n",
       "    </tr>\n",
       "  </tbody>\n",
       "</table>\n",
       "</div>"
      ],
      "text/plain": [
       "                             coefficients\n",
       "number_of_reviews                1.405661\n",
       "reviews_per_month                0.012285\n",
       "review_scores_value            -47.454428\n",
       "review_scores_location          23.976904\n",
       "review_scores_communication     19.117286\n",
       "review_scores_checkin           36.949549\n",
       "review_scores_cleanliness       16.640961\n",
       "review_scores_rating             2.032343\n",
       "review_scores_accuracy         -63.079844"
      ]
     },
     "execution_count": 88,
     "metadata": {},
     "output_type": "execute_result"
    }
   ],
   "source": [
    "pd.DataFrame(lr.coef_,index=X.columns,columns=['coefficients'])"
   ]
  },
  {
   "cell_type": "code",
   "execution_count": 98,
   "metadata": {},
   "outputs": [
    {
     "data": {
      "text/plain": [
       "39.50998346276286"
      ]
     },
     "execution_count": 98,
     "metadata": {},
     "output_type": "execute_result"
    }
   ],
   "source": [
    "metrics.mean_absolute_error(y_test,y_pred)"
   ]
  },
  {
   "cell_type": "code",
   "execution_count": 99,
   "metadata": {},
   "outputs": [
    {
     "data": {
      "text/plain": [
       "27516.588572168926"
      ]
     },
     "execution_count": 99,
     "metadata": {},
     "output_type": "execute_result"
    }
   ],
   "source": [
    "metrics.mean_squared_error(y_test,y_pred)"
   ]
  },
  {
   "cell_type": "code",
   "execution_count": 102,
   "metadata": {},
   "outputs": [
    {
     "data": {
      "text/plain": [
       "165.88124840429953"
      ]
     },
     "execution_count": 102,
     "metadata": {},
     "output_type": "execute_result"
    }
   ],
   "source": [
    "np.sqrt(metrics.mean_squared_error(y_test,y_pred))"
   ]
  },
  {
   "cell_type": "code",
   "execution_count": 133,
   "metadata": {},
   "outputs": [
    {
     "data": {
      "text/plain": [
       "LinregressResult(slope=0.005798697717670213, intercept=68.25804818733673, rvalue=0.05501093731334998, pvalue=2.0468015708279175e-06, stderr=0.0012201343245391437)"
      ]
     },
     "execution_count": 133,
     "metadata": {},
     "output_type": "execute_result"
    }
   ],
   "source": [
    "st.linregress(y_test,y_pred,)\n"
   ]
  }
 ],
 "metadata": {
  "kernelspec": {
   "display_name": "Python 3",
   "language": "python",
   "name": "python3"
  },
  "language_info": {
   "codemirror_mode": {
    "name": "ipython",
    "version": 3
   },
   "file_extension": ".py",
   "mimetype": "text/x-python",
   "name": "python",
   "nbconvert_exporter": "python",
   "pygments_lexer": "ipython3",
   "version": "3.7.1"
  }
 },
 "nbformat": 4,
 "nbformat_minor": 2
}
