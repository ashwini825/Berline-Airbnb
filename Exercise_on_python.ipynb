{
  "nbformat": 4,
  "nbformat_minor": 0,
  "metadata": {
    "colab": {
      "provenance": [],
      "collapsed_sections": [],
      "authorship_tag": "ABX9TyObWu4V9xHLkv5cQHodMFhb",
      "include_colab_link": true
    },
    "kernelspec": {
      "name": "python3",
      "display_name": "Python 3"
    },
    "language_info": {
      "name": "python"
    }
  },
  "cells": [
    {
      "cell_type": "markdown",
      "metadata": {
        "id": "view-in-github",
        "colab_type": "text"
      },
      "source": [
        "<a href=\"https://colab.research.google.com/github/ashwini825/Berline-Airbnb/blob/master/Exercise_on_python.ipynb\" target=\"_parent\"><img src=\"https://colab.research.google.com/assets/colab-badge.svg\" alt=\"Open In Colab\"/></a>"
      ]
    },
    {
      "cell_type": "code",
      "execution_count": null,
      "metadata": {
        "colab": {
          "base_uri": "https://localhost:8080/"
        },
        "id": "IA8AQIj1neGX",
        "outputId": "dd30a988-2996-4acc-e36b-293258dfbc78"
      },
      "outputs": [
        {
          "output_type": "stream",
          "name": "stdout",
          "text": [
            "Sum of (5+6j) and (7+4j) is : (12+10j)\n"
          ]
        }
      ],
      "source": [
        "#exercise 1\n",
        "# write a code for adding two complex numbers.\n",
        "a= 5+6j\n",
        "b= 7+4j\n",
        "print(\"Sum of {0} and {1} is : \".format(a,b)+str(a+b))"
      ]
    },
    {
      "cell_type": "code",
      "source": [
        "#exercise 2\n",
        "#write a code to interchange the first and last item inside the list.\n",
        "names=[\"padmavathi\",\"Ravi\",\"sandeep\",\"rakesh\",\"shoba\",\"nikhil\"]\n",
        "temp=names[0]\n",
        "names[0]=names[-1]\n",
        "names[-1]=temp\n",
        "print(names)\n",
        "\n",
        "#another method using * operand\n",
        "names=[\"padmavathi\",\"Ravi\",\"sandeep\",\"rakesh\",\"shoba\",\"nikhil\"]\n",
        "start, *middle, end = names\n",
        "names=end, *middle, start\n",
        "print(names)\n",
        "\n",
        "#using pop method\n",
        "names=[\"padmavathi\",\"Ravi\",\"sandeep\",\"rakesh\",\"shoba\",\"nikhil\"]\n",
        "first_name=names.pop(0)\n",
        "last_name=names.pop()\n",
        "names.insert(0, last_name)\n",
        "names.append(first_name)\n",
        "print(names)"
      ],
      "metadata": {
        "id": "bfiKR0KUn6TS",
        "colab": {
          "base_uri": "https://localhost:8080/"
        },
        "outputId": "94d8f481-61c9-4a56-8967-a5271905c355"
      },
      "execution_count": null,
      "outputs": [
        {
          "output_type": "stream",
          "name": "stdout",
          "text": [
            "['nikhil', 'Ravi', 'sandeep', 'rakesh', 'shoba', 'padmavathi']\n",
            "('nikhil', 'Ravi', 'sandeep', 'rakesh', 'shoba', 'padmavathi')\n",
            "['nikhil', 'Ravi', 'sandeep', 'rakesh', 'shoba', 'padmavathi']\n"
          ]
        }
      ]
    },
    {
      "cell_type": "code",
      "source": [
        "#exercise 3\n",
        "#write a code to interchange any two item inside the list.\n",
        "import random\n",
        "names=[\"prema\",\"mohan\",\"smitha\",\"shruthi\",\"ashwini\"]\n",
        "print(\"List of names before swaping any two items: \",end=\" \")\n",
        "print(names)\n",
        "random_number_1=random.randint(0,len(names))\n",
        "print(random_number_1)\n",
        "random_number_2=random.randint(0,len(names))\n",
        "print(random_number_2)\n",
        "if(random_number_1==random_number_2):\n",
        "  random_number_2=random.randint(0,len(names))\n",
        "  print(random_number_2)\n",
        "\n",
        "item_1=names.pop(random_number_1)\n",
        "print(item_1)\n",
        "item_2=names.pop(random_number_2)\n",
        "print(item_2)\n",
        "\n",
        "\n",
        "names.insert(random_number_1,item_2)\n",
        "print(names)\n",
        "names.insert(random_number_2,item_1)\n",
        "print(\"List of names after swaping any two items: \",end=\" \")\n",
        "print(names)"
      ],
      "metadata": {
        "colab": {
          "base_uri": "https://localhost:8080/"
        },
        "id": "5QVecAXP9yWp",
        "outputId": "6b2dcac7-e14a-456a-91a4-500e12432ebe"
      },
      "execution_count": null,
      "outputs": [
        {
          "output_type": "stream",
          "name": "stdout",
          "text": [
            "List of names before swaping any two items:  ['prema', 'mohan', 'smitha', 'shruthi', 'ashwini']\n",
            "3\n",
            "1\n",
            "shruthi\n",
            "mohan\n",
            "['prema', 'smitha', 'ashwini', 'mohan']\n",
            "List of names after swaping any two items:  ['prema', 'shruthi', 'smitha', 'ashwini', 'mohan']\n"
          ]
        }
      ]
    },
    {
      "cell_type": "code",
      "source": [],
      "metadata": {
        "id": "NfnwdxCj8Ns2"
      },
      "execution_count": null,
      "outputs": []
    },
    {
      "cell_type": "code",
      "source": [
        "#reversing the names without reverse function\n",
        "#Excersie 4\n",
        "names_1=names.copy()\n",
        "new_names=[]\n",
        "for i in range(len(names)):\n",
        "  new_names.append(names.pop())\n",
        "\n",
        "#second method\n",
        "print(names_1[::-1])"
      ],
      "metadata": {
        "id": "FaOMAv4D7zNe",
        "colab": {
          "base_uri": "https://localhost:8080/"
        },
        "outputId": "046cd235-2adb-4418-a4ab-bec662726afa"
      },
      "execution_count": null,
      "outputs": [
        {
          "output_type": "stream",
          "name": "stdout",
          "text": [
            "['padmavathi', 'shoba', 'rakesh', 'sandeep', 'Ravi', 'nikhil']\n"
          ]
        }
      ]
    },
    {
      "cell_type": "code",
      "source": [
        "#Exercise 5 Create a program that asks the user to enter their name and their age. Print out a message addressed to them that tells them the year that they will turn 100 years old\n",
        "age=int(input(\"Enter your age : \"))\n",
        "print(\"Your name is : \"+input(\"Enter your name : \")+\"\\n\")\n",
        "print(\"your are \"+str()+\" years old\")\n",
        "print(\"In \"+str((100-age))+\" year you will turn to 100. \")"
      ],
      "metadata": {
        "colab": {
          "base_uri": "https://localhost:8080/"
        },
        "id": "CMPRWsprBdSM",
        "outputId": "f37732a9-0347-4249-8ca8-4bd3ea8d2e27"
      },
      "execution_count": null,
      "outputs": [
        {
          "output_type": "stream",
          "name": "stdout",
          "text": [
            "Enter your age : 56\n",
            "Enter your name : Mohan\n",
            "Your name is : Mohan\n",
            "\n",
            "your are  years old\n",
            "In 44 year you will turn to 100. \n"
          ]
        }
      ]
    },
    {
      "cell_type": "code",
      "source": [
        "#Exercise 6 Ask the user for a number. Depending on whether the number is even or odd, print out an appropriate message to the user\n",
        "# % symbol gives the reminder as zero\n",
        "#checking the number is the multiple of 4\n",
        "number=int(input(\"Enter a number to check whether its odd or even : \"))\n",
        "if(number%2==0):\n",
        "  if(number%4==0):\n",
        "    print(\"The number \"+str(number)+\" is multiple of 4. \")\n",
        "  print(\"The number \"+str(number)+\" is even. \")\n",
        "else:\n",
        "  print(\"The number \"+str(number)+\" is odd. \")"
      ],
      "metadata": {
        "colab": {
          "base_uri": "https://localhost:8080/"
        },
        "id": "gIk-DrmKBnsu",
        "outputId": "6b8dc550-a651-4c3b-c8f8-b01040dae418"
      },
      "execution_count": null,
      "outputs": [
        {
          "output_type": "stream",
          "name": "stdout",
          "text": [
            "Enter a number to check whether its odd or even : 64\n",
            "The number 64 is multiple of 4. \n",
            "The number 64 is even. \n"
          ]
        }
      ]
    },
    {
      "cell_type": "code",
      "source": [
        "#Exercise 7 "
      ],
      "metadata": {
        "id": "E7jDzX7-DtnQ"
      },
      "execution_count": null,
      "outputs": []
    }
  ]
}